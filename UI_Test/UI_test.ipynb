{
 "cells": [
  {
   "cell_type": "code",
   "id": "initial_id",
   "metadata": {
    "collapsed": true,
    "ExecuteTime": {
     "end_time": "2025-07-01T03:26:57.662083Z",
     "start_time": "2025-07-01T03:26:56.697234Z"
    }
   },
   "source": [
    "import streamlit as st\n",
    "import joblib\n",
    "import numpy as np\n",
    "\n",
    "# Load model\n",
    "model = joblib.load(\"salary_prediction_model.pkl\")\n",
    "\n",
    "st.title(\"💼 AI Job Salary Estimator\")\n",
    "st.markdown(\"Estimate your AI job salary based on your profile.\")\n",
    "\n",
    "# User Inputs (based on your dataset)\n",
    "experience = st.selectbox(\"Experience Level\", [\"EN\", \"MI\", \"SE\", \"EX\"])\n",
    "employment = st.selectbox(\"Employment Type\", [\"FT\", \"PT\", \"CT\", \"FL\"])\n",
    "company_location = st.selectbox(\"Company Location\", [\"United States\", \"Germany\", \"India\", \"France\", \"Other\"])\n",
    "company_size = st.selectbox(\"Company Size\", [\"S\", \"M\", \"L\"])\n",
    "employee_location = st.selectbox(\"Employee Residence\", [\"United States\", \"Germany\", \"India\", \"France\", \"Other\"])\n",
    "remote_ratio = st.slider(\"Remote Work Ratio\", 0, 100, 50)\n",
    "education = st.selectbox(\"Education Level\", [\"Bachelor\", \"Master\", \"PhD\", \"Associate\", \"Other\"])\n",
    "years_experience = st.slider(\"Years of Experience\", 0, 25, 3)\n",
    "industry = st.selectbox(\"Industry\", [\"Technology\", \"Healthcare\", \"Finance\", \"Retail\", \"Other\"])\n",
    "\n",
    "# Encoding maps (simplified example — you should use your training-time mappings or label encoders)\n",
    "map_dict = {\n",
    "    \"experience\": {\"EN\": 0, \"MI\": 1, \"SE\": 2, \"EX\": 3},\n",
    "    \"employment\": {\"FT\": 0, \"PT\": 1, \"CT\": 2, \"FL\": 3},\n",
    "    \"company_location\": {\"United States\": 0, \"Germany\": 1, \"India\": 2, \"France\": 3, \"Other\": 4},\n",
    "    \"company_size\": {\"S\": 0, \"M\": 1, \"L\": 2},\n",
    "    \"employee_location\": {\"United States\": 0, \"Germany\": 1, \"India\": 2, \"France\": 3, \"Other\": 4},\n",
    "    \"education\": {\"Bachelor\": 0, \"Master\": 1, \"PhD\": 2, \"Associate\": 3, \"Other\": 4},\n",
    "    \"industry\": {\"Technology\": 0, \"Healthcare\": 1, \"Finance\": 2, \"Retail\": 3, \"Other\": 4}\n",
    "}\n",
    "\n",
    "# Create feature vector\n",
    "input_features = [\n",
    "    map_dict[\"experience\"][experience],\n",
    "    map_dict[\"employment\"][employment],\n",
    "    map_dict[\"company_location\"][company_location],\n",
    "    map_dict[\"company_size\"][company_size],\n",
    "    map_dict[\"employee_location\"][employee_location],\n",
    "    remote_ratio,\n",
    "    map_dict[\"education\"][education],\n",
    "    years_experience,\n",
    "    map_dict[\"industry\"][industry]\n",
    "]\n",
    "\n",
    "# Predict\n",
    "if st.button(\"Predict Salary\"):\n",
    "    prediction = model.predict([input_features])[0]\n",
    "    st.success(f\"💰 Estimated Salary: ${prediction:,.2f}\")"
   ],
   "outputs": [
    {
     "name": "stderr",
     "output_type": "stream",
     "text": [
      "2025-06-30 20:26:57.659 \n",
      "  \u001B[33m\u001B[1mWarning:\u001B[0m to view this Streamlit app on a browser, run it with the following\n",
      "  command:\n",
      "\n",
      "    streamlit run /opt/anaconda3/lib/python3.12/site-packages/ipykernel_launcher.py [ARGUMENTS]\n"
     ]
    }
   ],
   "execution_count": 1
  }
 ],
 "metadata": {
  "kernelspec": {
   "display_name": "Python 3",
   "language": "python",
   "name": "python3"
  },
  "language_info": {
   "codemirror_mode": {
    "name": "ipython",
    "version": 2
   },
   "file_extension": ".py",
   "mimetype": "text/x-python",
   "name": "python",
   "nbconvert_exporter": "python",
   "pygments_lexer": "ipython2",
   "version": "2.7.6"
  }
 },
 "nbformat": 4,
 "nbformat_minor": 5
}
